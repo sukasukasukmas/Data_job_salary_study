{
 "cells": [
  {
   "cell_type": "markdown",
   "metadata": {
    "id": "LSIX6Pr3SWbd"
   },
   "source": [
    "<h1><div align=\"center\"><b>  Data Scientist Salary Study\n",
    " </b></div></h1>\n",
    "<h3><div align=\"center\"><b> Group Project by Yuheng Fan, Yizhang Huang, Siqi Wang, Sophia Zhang </b></div></h3>\n",
    "\n",
    "---"
   ]
  },
  {
   "cell_type": "markdown",
   "metadata": {
    "id": "rtXvO9P8h9KF"
   },
   "source": [
    "# Project Overview\n",
    "In this project, we are interested to find out the requirements and skills needed and salary of data scientists job of different industry on the job market. Our project overview is as follows:\n",
    "\n",
    "**Introduction and Motivation**: Why we are interested in this particular topic? What can we learn from this project\n",
    "\n",
    "**Part 1:** Correlation Amoing Programming languages and Job Titles\n",
    "\n",
    "**Part 2:** Correlation Among Educational Degree, Job Type, and Salary\n",
    "\n",
    "**Part 3:** Correlation Among Job Amount, Salary, and Industry\n",
    "\n",
    "**Part 4:** Correlation Among Company Rating, Salary, and Location.\n",
    "\n",
    "**Conclusion and Considerations:** Does our analysis provide useful insights for our movtivation? which of the factors have impacts on the salary? What advices can we give for statistics students who want to work in similar fields?"
   ]
  },
  {
   "cell_type": "markdown",
   "metadata": {
    "id": "ZgKuwJDhWZ-v"
   },
   "source": [
    "# Introduction and Motivation"
   ]
  },
  {
   "cell_type": "markdown",
   "metadata": {
    "id": "D9INYS4Cm9Sh"
   },
   "source": [
    "In this 21 century, people are all familiar with the term \"big data\", which refers to large amount of data that exceeds the processing capacity of traditional database systems. With the rapid development of technology, more and more daily life information transforming into digital data, while increasing demand for data analysis in various of industries makes it particularly important. Therefore, data science is developed.\n",
    "\n",
    "Data science is an interdisciplinary field - combining subjects such as computer science, mathematics, statistics, and many other fields. It encompasses machine learning (algorithms that use statistics to find patterns in large amounts of data), data analysis (including examining the data, cleaning/validating it, and transforming it to ensure it is modeled in an efficient manner, thereby help solve business problems) and data engineering (focusing on acquiring data, preparing data, and processing data). Research in this field has been increasing exponentially for the recent decays, as well as the application of data science. It is worth noting that data science is currently associated with almost every modern industries.\n",
    "\n",
    "Therefore, as students majoring in statistics, we would like to plan ahead our career path, so we determine to conduct a analysis project that allows us to further explore the data related job. We are interested in not only the requirements listed by the company and the skills/language that other more sophisticated data scientists use, so that we can plan ahead to accuire the skills that we need for the job of interest. But also we would like to learn about the salary level of different industry so that we can have a clear goal of the industry we want to work in. In this project, we will analyze the data using various plots."
   ]
  },
  {
   "cell_type": "markdown",
   "metadata": {
    "id": "Z20McwdzVbKW"
   },
   "source": [
    "## Dataset: Data Scientist Salary (Kaggle)\n",
    "\n",
    "\n"
   ]
  },
  {
   "cell_type": "markdown",
   "metadata": {
    "id": "Eff-WULJgk7P"
   },
   "source": [
    "In order to fully explore the factors that correlate to salary for data science related jobs, we chose to explore the [Data Scientist Salary](https://www.kaggle.com/nikhilbhathi/data-scientist-salary-us-glassdoor) dataset from Kaggle. The dataset is scraped from the Glassdoor website, with 42 variables (such as average salary, job description, rating of the company, etc.)."
   ]
  },
  {
   "cell_type": "code",
   "execution_count": null,
   "metadata": {
    "colab": {
     "base_uri": "https://localhost:8080/",
     "height": 608
    },
    "id": "2-7SilxSfZzM",
    "outputId": "9c897d74-e77d-4555-98c6-ea618a4d1a18"
   },
   "outputs": [
    {
     "data": {
      "text/html": [
       "\n",
       "  <div id=\"df-1c335f31-e9b1-4178-9915-fee6ef52e7ee\">\n",
       "    <div class=\"colab-df-container\">\n",
       "      <div>\n",
       "<style scoped>\n",
       "    .dataframe tbody tr th:only-of-type {\n",
       "        vertical-align: middle;\n",
       "    }\n",
       "\n",
       "    .dataframe tbody tr th {\n",
       "        vertical-align: top;\n",
       "    }\n",
       "\n",
       "    .dataframe thead th {\n",
       "        text-align: right;\n",
       "    }\n",
       "</style>\n",
       "<table border=\"1\" class=\"dataframe\">\n",
       "  <thead>\n",
       "    <tr style=\"text-align: right;\">\n",
       "      <th></th>\n",
       "      <th>index</th>\n",
       "      <th>Job Title</th>\n",
       "      <th>Salary Estimate</th>\n",
       "      <th>Job Description</th>\n",
       "      <th>Rating</th>\n",
       "      <th>Company Name</th>\n",
       "      <th>Location</th>\n",
       "      <th>Headquarters</th>\n",
       "      <th>Size</th>\n",
       "      <th>Founded</th>\n",
       "      <th>...</th>\n",
       "      <th>tensor</th>\n",
       "      <th>hadoop</th>\n",
       "      <th>tableau</th>\n",
       "      <th>bi</th>\n",
       "      <th>flink</th>\n",
       "      <th>mongo</th>\n",
       "      <th>google_an</th>\n",
       "      <th>job_title_sim</th>\n",
       "      <th>seniority_by_title</th>\n",
       "      <th>Degree</th>\n",
       "    </tr>\n",
       "  </thead>\n",
       "  <tbody>\n",
       "    <tr>\n",
       "      <th>0</th>\n",
       "      <td>0</td>\n",
       "      <td>Data Scientist</td>\n",
       "      <td>$53K-$91K (Glassdoor est.)</td>\n",
       "      <td>Data Scientist\\nLocation: Albuquerque, NM\\nEdu...</td>\n",
       "      <td>3.8</td>\n",
       "      <td>Tecolote Research\\n3.8</td>\n",
       "      <td>Albuquerque, NM</td>\n",
       "      <td>Goleta, CA</td>\n",
       "      <td>501 - 1000</td>\n",
       "      <td>1973</td>\n",
       "      <td>...</td>\n",
       "      <td>0</td>\n",
       "      <td>0</td>\n",
       "      <td>1</td>\n",
       "      <td>1</td>\n",
       "      <td>0</td>\n",
       "      <td>0</td>\n",
       "      <td>0</td>\n",
       "      <td>data scientist</td>\n",
       "      <td>na</td>\n",
       "      <td>M</td>\n",
       "    </tr>\n",
       "    <tr>\n",
       "      <th>1</th>\n",
       "      <td>1</td>\n",
       "      <td>Healthcare Data Scientist</td>\n",
       "      <td>$63K-$112K (Glassdoor est.)</td>\n",
       "      <td>What You Will Do:\\n\\nI. General Summary\\n\\nThe...</td>\n",
       "      <td>3.4</td>\n",
       "      <td>University of Maryland Medical System\\n3.4</td>\n",
       "      <td>Linthicum, MD</td>\n",
       "      <td>Baltimore, MD</td>\n",
       "      <td>10000+</td>\n",
       "      <td>1984</td>\n",
       "      <td>...</td>\n",
       "      <td>0</td>\n",
       "      <td>0</td>\n",
       "      <td>0</td>\n",
       "      <td>0</td>\n",
       "      <td>0</td>\n",
       "      <td>0</td>\n",
       "      <td>0</td>\n",
       "      <td>data scientist</td>\n",
       "      <td>na</td>\n",
       "      <td>M</td>\n",
       "    </tr>\n",
       "    <tr>\n",
       "      <th>2</th>\n",
       "      <td>2</td>\n",
       "      <td>Data Scientist</td>\n",
       "      <td>$80K-$90K (Glassdoor est.)</td>\n",
       "      <td>KnowBe4, Inc. is a high growth information sec...</td>\n",
       "      <td>4.8</td>\n",
       "      <td>KnowBe4\\n4.8</td>\n",
       "      <td>Clearwater, FL</td>\n",
       "      <td>Clearwater, FL</td>\n",
       "      <td>501 - 1000</td>\n",
       "      <td>2010</td>\n",
       "      <td>...</td>\n",
       "      <td>0</td>\n",
       "      <td>0</td>\n",
       "      <td>0</td>\n",
       "      <td>0</td>\n",
       "      <td>0</td>\n",
       "      <td>0</td>\n",
       "      <td>0</td>\n",
       "      <td>data scientist</td>\n",
       "      <td>na</td>\n",
       "      <td>M</td>\n",
       "    </tr>\n",
       "    <tr>\n",
       "      <th>3</th>\n",
       "      <td>3</td>\n",
       "      <td>Data Scientist</td>\n",
       "      <td>$56K-$97K (Glassdoor est.)</td>\n",
       "      <td>*Organization and Job ID**\\nJob ID: 310709\\n\\n...</td>\n",
       "      <td>3.8</td>\n",
       "      <td>PNNL\\n3.8</td>\n",
       "      <td>Richland, WA</td>\n",
       "      <td>Richland, WA</td>\n",
       "      <td>1001 - 5000</td>\n",
       "      <td>1965</td>\n",
       "      <td>...</td>\n",
       "      <td>0</td>\n",
       "      <td>0</td>\n",
       "      <td>0</td>\n",
       "      <td>0</td>\n",
       "      <td>0</td>\n",
       "      <td>0</td>\n",
       "      <td>0</td>\n",
       "      <td>data scientist</td>\n",
       "      <td>na</td>\n",
       "      <td>na</td>\n",
       "    </tr>\n",
       "    <tr>\n",
       "      <th>4</th>\n",
       "      <td>4</td>\n",
       "      <td>Data Scientist</td>\n",
       "      <td>$86K-$143K (Glassdoor est.)</td>\n",
       "      <td>Data Scientist\\nAffinity Solutions / Marketing...</td>\n",
       "      <td>2.9</td>\n",
       "      <td>Affinity Solutions\\n2.9</td>\n",
       "      <td>New York, NY</td>\n",
       "      <td>New York, NY</td>\n",
       "      <td>51 - 200</td>\n",
       "      <td>1998</td>\n",
       "      <td>...</td>\n",
       "      <td>0</td>\n",
       "      <td>0</td>\n",
       "      <td>0</td>\n",
       "      <td>0</td>\n",
       "      <td>0</td>\n",
       "      <td>0</td>\n",
       "      <td>0</td>\n",
       "      <td>data scientist</td>\n",
       "      <td>na</td>\n",
       "      <td>na</td>\n",
       "    </tr>\n",
       "    <tr>\n",
       "      <th>5</th>\n",
       "      <td>5</td>\n",
       "      <td>Data Scientist</td>\n",
       "      <td>$71K-$119K (Glassdoor est.)</td>\n",
       "      <td>CyrusOne is seeking a talented Data Scientist ...</td>\n",
       "      <td>3.4</td>\n",
       "      <td>CyrusOne\\n3.4</td>\n",
       "      <td>Dallas, TX</td>\n",
       "      <td>Dallas, TX</td>\n",
       "      <td>201 - 500</td>\n",
       "      <td>2000</td>\n",
       "      <td>...</td>\n",
       "      <td>0</td>\n",
       "      <td>0</td>\n",
       "      <td>0</td>\n",
       "      <td>1</td>\n",
       "      <td>0</td>\n",
       "      <td>1</td>\n",
       "      <td>0</td>\n",
       "      <td>data scientist</td>\n",
       "      <td>na</td>\n",
       "      <td>na</td>\n",
       "    </tr>\n",
       "  </tbody>\n",
       "</table>\n",
       "<p>6 rows × 42 columns</p>\n",
       "</div>\n",
       "      <button class=\"colab-df-convert\" onclick=\"convertToInteractive('df-1c335f31-e9b1-4178-9915-fee6ef52e7ee')\"\n",
       "              title=\"Convert this dataframe to an interactive table.\"\n",
       "              style=\"display:none;\">\n",
       "        \n",
       "  <svg xmlns=\"http://www.w3.org/2000/svg\" height=\"24px\"viewBox=\"0 0 24 24\"\n",
       "       width=\"24px\">\n",
       "    <path d=\"M0 0h24v24H0V0z\" fill=\"none\"/>\n",
       "    <path d=\"M18.56 5.44l.94 2.06.94-2.06 2.06-.94-2.06-.94-.94-2.06-.94 2.06-2.06.94zm-11 1L8.5 8.5l.94-2.06 2.06-.94-2.06-.94L8.5 2.5l-.94 2.06-2.06.94zm10 10l.94 2.06.94-2.06 2.06-.94-2.06-.94-.94-2.06-.94 2.06-2.06.94z\"/><path d=\"M17.41 7.96l-1.37-1.37c-.4-.4-.92-.59-1.43-.59-.52 0-1.04.2-1.43.59L10.3 9.45l-7.72 7.72c-.78.78-.78 2.05 0 2.83L4 21.41c.39.39.9.59 1.41.59.51 0 1.02-.2 1.41-.59l7.78-7.78 2.81-2.81c.8-.78.8-2.07 0-2.86zM5.41 20L4 18.59l7.72-7.72 1.47 1.35L5.41 20z\"/>\n",
       "  </svg>\n",
       "      </button>\n",
       "      \n",
       "  <style>\n",
       "    .colab-df-container {\n",
       "      display:flex;\n",
       "      flex-wrap:wrap;\n",
       "      gap: 12px;\n",
       "    }\n",
       "\n",
       "    .colab-df-convert {\n",
       "      background-color: #E8F0FE;\n",
       "      border: none;\n",
       "      border-radius: 50%;\n",
       "      cursor: pointer;\n",
       "      display: none;\n",
       "      fill: #1967D2;\n",
       "      height: 32px;\n",
       "      padding: 0 0 0 0;\n",
       "      width: 32px;\n",
       "    }\n",
       "\n",
       "    .colab-df-convert:hover {\n",
       "      background-color: #E2EBFA;\n",
       "      box-shadow: 0px 1px 2px rgba(60, 64, 67, 0.3), 0px 1px 3px 1px rgba(60, 64, 67, 0.15);\n",
       "      fill: #174EA6;\n",
       "    }\n",
       "\n",
       "    [theme=dark] .colab-df-convert {\n",
       "      background-color: #3B4455;\n",
       "      fill: #D2E3FC;\n",
       "    }\n",
       "\n",
       "    [theme=dark] .colab-df-convert:hover {\n",
       "      background-color: #434B5C;\n",
       "      box-shadow: 0px 1px 3px 1px rgba(0, 0, 0, 0.15);\n",
       "      filter: drop-shadow(0px 1px 2px rgba(0, 0, 0, 0.3));\n",
       "      fill: #FFFFFF;\n",
       "    }\n",
       "  </style>\n",
       "\n",
       "      <script>\n",
       "        const buttonEl =\n",
       "          document.querySelector('#df-1c335f31-e9b1-4178-9915-fee6ef52e7ee button.colab-df-convert');\n",
       "        buttonEl.style.display =\n",
       "          google.colab.kernel.accessAllowed ? 'block' : 'none';\n",
       "\n",
       "        async function convertToInteractive(key) {\n",
       "          const element = document.querySelector('#df-1c335f31-e9b1-4178-9915-fee6ef52e7ee');\n",
       "          const dataTable =\n",
       "            await google.colab.kernel.invokeFunction('convertToInteractive',\n",
       "                                                     [key], {});\n",
       "          if (!dataTable) return;\n",
       "\n",
       "          const docLinkHtml = 'Like what you see? Visit the ' +\n",
       "            '<a target=\"_blank\" href=https://colab.research.google.com/notebooks/data_table.ipynb>data table notebook</a>'\n",
       "            + ' to learn more about interactive tables.';\n",
       "          element.innerHTML = '';\n",
       "          dataTable['output_type'] = 'display_data';\n",
       "          await google.colab.output.renderOutput(dataTable, element);\n",
       "          const docLink = document.createElement('div');\n",
       "          docLink.innerHTML = docLinkHtml;\n",
       "          element.appendChild(docLink);\n",
       "        }\n",
       "      </script>\n",
       "    </div>\n",
       "  </div>\n",
       "  "
      ],
      "text/plain": [
       "   index                  Job Title              Salary Estimate  \\\n",
       "0      0             Data Scientist   $53K-$91K (Glassdoor est.)   \n",
       "1      1  Healthcare Data Scientist  $63K-$112K (Glassdoor est.)   \n",
       "2      2             Data Scientist   $80K-$90K (Glassdoor est.)   \n",
       "3      3             Data Scientist   $56K-$97K (Glassdoor est.)   \n",
       "4      4             Data Scientist  $86K-$143K (Glassdoor est.)   \n",
       "5      5             Data Scientist  $71K-$119K (Glassdoor est.)   \n",
       "\n",
       "                                     Job Description  Rating  \\\n",
       "0  Data Scientist\\nLocation: Albuquerque, NM\\nEdu...     3.8   \n",
       "1  What You Will Do:\\n\\nI. General Summary\\n\\nThe...     3.4   \n",
       "2  KnowBe4, Inc. is a high growth information sec...     4.8   \n",
       "3  *Organization and Job ID**\\nJob ID: 310709\\n\\n...     3.8   \n",
       "4  Data Scientist\\nAffinity Solutions / Marketing...     2.9   \n",
       "5  CyrusOne is seeking a talented Data Scientist ...     3.4   \n",
       "\n",
       "                                 Company Name         Location  \\\n",
       "0                      Tecolote Research\\n3.8  Albuquerque, NM   \n",
       "1  University of Maryland Medical System\\n3.4    Linthicum, MD   \n",
       "2                                KnowBe4\\n4.8   Clearwater, FL   \n",
       "3                                   PNNL\\n3.8     Richland, WA   \n",
       "4                     Affinity Solutions\\n2.9     New York, NY   \n",
       "5                               CyrusOne\\n3.4       Dallas, TX   \n",
       "\n",
       "     Headquarters          Size  Founded  ... tensor hadoop tableau bi flink  \\\n",
       "0      Goleta, CA   501 - 1000      1973  ...      0      0       1  1     0   \n",
       "1   Baltimore, MD       10000+      1984  ...      0      0       0  0     0   \n",
       "2  Clearwater, FL   501 - 1000      2010  ...      0      0       0  0     0   \n",
       "3    Richland, WA  1001 - 5000      1965  ...      0      0       0  0     0   \n",
       "4    New York, NY     51 - 200      1998  ...      0      0       0  0     0   \n",
       "5      Dallas, TX    201 - 500      2000  ...      0      0       0  1     0   \n",
       "\n",
       "   mongo  google_an   job_title_sim  seniority_by_title  Degree  \n",
       "0      0          0  data scientist                  na       M  \n",
       "1      0          0  data scientist                  na       M  \n",
       "2      0          0  data scientist                  na       M  \n",
       "3      0          0  data scientist                  na      na  \n",
       "4      0          0  data scientist                  na      na  \n",
       "5      1          0  data scientist                  na      na  \n",
       "\n",
       "[6 rows x 42 columns]"
      ]
     },
     "execution_count": 7,
     "metadata": {},
     "output_type": "execute_result"
    }
   ],
   "source": [
    "# import salary dataset\n",
    "import pandas as pd\n",
    "\n",
    "data = pd.read_csv(\"/content/data_salary_cleaned_2021.csv\")\n",
    "data.head(6)"
   ]
  },
  {
   "cell_type": "markdown",
   "metadata": {
    "id": "fSGTzFPYljBt"
   },
   "source": [
    "For our project, we will mainly focus on the the relationship among salary and the following areas:\n",
    "\n",
    "\n",
    "*   Company ratings\n",
    "*   Programming languages: Python, Java, SQL …\n",
    "*   Job types: scientist, analyst, engineer, and other …\n",
    "*   Industries: Media, Healthcare, Technology …\n",
    "*   Geographic locations\n",
    "\n",
    "\n"
   ]
  },
  {
   "cell_type": "markdown",
   "metadata": {
    "id": "PTlWu47QVoLc"
   },
   "source": [
    "## Part 1: Correlation Amoing Programming languages and Job Titles"
   ]
  },
  {
   "cell_type": "markdown",
   "metadata": {
    "id": "BIW7zV3-H7O9"
   },
   "source": [
    "### Context\n",
    "Proficiency in different programming languages is a requirement for data scientist. There are so many programming languages that are helpful purpose of analyzing. People need to determine which programming languages are most used in the workplace. The following code provides some insights about different programming languages.\n",
    "\n",
    "### Methodology"
   ]
  },
  {
   "cell_type": "code",
   "execution_count": null,
   "metadata": {
    "id": "oAObKqJl01Tv"
   },
   "outputs": [],
   "source": [
    "import pandas as pd\n",
    "import numpy as np\n",
    "import seaborn as sns\n",
    "import matplotlib.pyplot as plt"
   ]
  },
  {
   "cell_type": "code",
   "execution_count": null,
   "metadata": {
    "id": "3un9cw2_02Qp"
   },
   "outputs": [],
   "source": [
    "# select the columns with skills\n",
    "skills = data[[\"Python\",\"spark\",\"aws\",\"excel\",\"sql\",\"sas\",\"keras\",\"pytorch\"\n",
    "               ,\"scikit\",\"tensor\",\"hadoop\",\"tableau\",\"bi\",\"flink\",\"mongo\",\"google_an\"]]"
   ]
  },
  {
   "cell_type": "code",
   "execution_count": null,
   "metadata": {
    "id": "X2AzyC_407-p"
   },
   "outputs": [],
   "source": [
    "#Creat a histogram to show the counts of programming languages\n",
    "lst=[]\n",
    "for i in skills:\n",
    "    lst.append(skills[i].value_counts())\n",
    "skills_sum=pd.DataFrame(lst)\n",
    "new_skils=skills_sum[1]\n",
    "a=pd.DataFrame(new_skils)\n",
    "sns.set(font_scale=2)\n",
    "plt.gcf().set_size_inches(25, 8)\n",
    "ax = sns.barplot(x = a.index, y = a[1])\n",
    "ax.set(title = \"Bar plot of Programming language\", xlabel = \"Programming language\", ylabel = \"Counts\")\n",
    "ax"
   ]
  },
  {
   "cell_type": "code",
   "execution_count": null,
   "metadata": {
    "id": "fGlzWhtP1HuP"
   },
   "outputs": [],
   "source": [
    "#create a dataframe of counts of 16 programming langugages\n",
    "a"
   ]
  },
  {
   "cell_type": "markdown",
   "metadata": {
    "id": "AbDp5SDF1aod"
   },
   "source": [
    "The question that we try to determine is that which programming language are most used and least used.\n",
    "This question can provide us some insights about which type of programming langugages has relationship with salary.\n",
    "We create a dataframe to shows the counts of each programming language in our dataset.\n",
    "The dataset collect the information from 742 data scientist.\n",
    "There are total of 16 programming languages that we try to explore.They are the following: Python, spark,aws,exel,etc.\n",
    "It is clear to see that Python, excel, sql are the top 3 progamming languages among data scientist and data related jobs.\n",
    "Having a dataframe is not that obvious to indicate the result. Thus, we need to make the data more visualize.\n",
    "A barplot was made to visually present the data. In the barplot, python,excel, and sql have a similar counts which the bars\n",
    "have same length.Next, we check back at the dataframe. We can clearly identify that how many people used python language.\n",
    "392 data scientist report that they used python language.Python programming languages is the most used programming language.\n",
    "From the bar plot, we can see that flink programming languages are the least used in the workplace according to our dataset"
   ]
  },
  {
   "cell_type": "code",
   "execution_count": null,
   "metadata": {
    "id": "Nv9qN-L21mxZ"
   },
   "outputs": [],
   "source": [
    "# Create a graph to show the counts of programming languages by job titles\n",
    "lst1=[]\n",
    "for i in skills:\n",
    "    lst1.append((i))\n",
    "skills_by_title1 = data.groupby('job_title_sim').sum()[lst1]\n",
    "skills_by_title1=skills_by_title1.drop(\"na\")\n",
    "skills_by_title1.style.background_gradient(cmap='Reds', axis='columns')"
   ]
  },
  {
   "cell_type": "markdown",
   "metadata": {
    "id": "vavudWwh18wX"
   },
   "source": [
    "To dig deeper about the question, we create a dataframe to shows the programming languages by job titles.\n",
    "This dataframe help us better understand what programming languages are being used for each job title.\n",
    "In our dataset, our job title include data scientist, analyst, data modeler, and so on. In addition, we use red color\n",
    "to show the relationship. The deeper the red color means the programing being used most often.\n",
    "From the dataframe, it is clear to see that data scientist favor python programming langugae the most. This implicate\n",
    "that python is the most important skill for data scientist.\n",
    "It looks like Python and SQL are the top skills in demand for Data Scientists, Data Engineers,\n",
    "and Machine Learning Engineers because they have a relative deep red color compared to other languages\n",
    "One interesting finding is that Excel is also a good skill to have since many jobs need that skill.\n",
    "In conclusion, it is imperative to process the python skills if you want to become a data scientist in the future.\n"
   ]
  },
  {
   "cell_type": "markdown",
   "metadata": {
    "id": "sHqwmUAkWKma"
   },
   "source": [
    "## Part 2: Correlation Among Educational Degree, Job Type, and Salary"
   ]
  },
  {
   "cell_type": "markdown",
   "metadata": {
    "id": "deEwPTtOeMYH"
   },
   "source": [
    "### Context\n",
    "Besides programming languages, educational degree is also a big part in job requirements. When mentioning data science, people usually have the stereotype that for these computer science related jobs, PhD is a necessary requirement to apply. As undergraduate students that are about to finish our Bachelor's Degree, it is an important time point that we should decide whether pursuing further degree (such as Master or Phd) or not. Therefore, we would like to explore the distribution of degree requirement, as well as the relationship with salaries, to have a better sense of the real-world situation.\n",
    "\n",
    "After finishing our educational degree, we also wonder the salary distribution between different job types. Therefore, an analysis between average salary and job types is also conducted.\n",
    "\n",
    "\n",
    "### Methodology\n",
    "In this datset, we noticed that many job descriptions do not have specific degree requirements. In order to have a better data integrity, we replaced those 'na' with 'B', which stands for Bachelor's Degree or equivalent experience. We categorized the data into three groups, B (Bachelor's Degree or equivalent), M (Master's Degree or equivalent), and P (PHD or equivalent), and visualized the frequencies in a bar chart."
   ]
  },
  {
   "cell_type": "code",
   "execution_count": null,
   "metadata": {
    "colab": {
     "base_uri": "https://localhost:8080/",
     "height": 403
    },
    "id": "DggRxqeBeLaQ",
    "outputId": "a07c51f5-a455-4ba4-dc19-256894396987"
   },
   "outputs": [
    {
     "data": {
      "text/plain": [
       "Text(0.5, 1.0, 'Degree Requirement Count')"
      ]
     },
     "execution_count": 3,
     "metadata": {},
     "output_type": "execute_result"
    },
    {
     "data": {
      "image/png": "[encoded data removed]",
      "text/plain": [
       "<Figure size 360x360 with 1 Axes>"
      ]
     },
     "metadata": {
      "needs_background": "light"
     },
     "output_type": "display_data"
    }
   ],
   "source": [
    "import seaborn as sns\n",
    "import matplotlib.pyplot as plt\n",
    "\n",
    "# copy the data for degree v.s. job type analysis\n",
    "degree = data.copy()[['Degree', 'Avg Salary(K)']]\n",
    "degree['Degree'] = degree['Degree'].str.replace('na' , 'B')\n",
    "# visualize the data using bar plot\n",
    "sns.catplot(x=\"Degree\", kind=\"count\",\n",
    "            order=['B', 'M', 'P'], palette=\"ch:.25\", data=degree)\n",
    "plt.title(\"Degree Requirement Count\", size=16)"
   ]
  },
  {
   "cell_type": "markdown",
   "metadata": {
    "id": "ZaH0fJKmq9Qz"
   },
   "source": [
    "The result showed that more than 50% of the jobs only require Bachelor's Degree. There are about double the amount of jobs require for Master than for PhD. Overall, we can see that there is a decreasing trend of jobs required for higher educational degree. Therefore, it seems that a Bachelor's Degree is sufficient for finding a job in data science area.\n",
    "\n",
    "Moreover, we conduct further analysis of the salary distribution among different degree groups. We visualize the result using a violin plot, which is more informative and shows the full distribution comparing to a plain box plot."
   ]
  },
  {
   "cell_type": "code",
   "execution_count": null,
   "metadata": {
    "colab": {
     "base_uri": "https://localhost:8080/",
     "height": 405
    },
    "id": "w7yNhlHCnvxI",
    "outputId": "10054e3d-0e09-4985-f14a-f84c788e685c"
   },
   "outputs": [
    {
     "data": {
      "text/plain": [
       "Text(0.5, 1.0, 'Avg Salary by Degree')"
      ]
     },
     "execution_count": 5,
     "metadata": {},
     "output_type": "execute_result"
    },
    {
     "data": {
      "image/png": "[encoded data removed]",
      "text/plain": [
       "<Figure size 360x360 with 1 Axes>"
      ]
     },
     "metadata": {
      "needs_background": "light"
     },
     "output_type": "display_data"
    }
   ],
   "source": [
    "# visualize the data using violin plot\n",
    "sns.catplot(x=\"Avg Salary(K)\", y=\"Degree\", kind=\"violin\",\n",
    "            order=['B', 'M', 'P'], palette=\"ch:.25\", data=degree)\n",
    "plt.title(\"Avg Salary by Degree\", size=16)"
   ]
  },
  {
   "cell_type": "markdown",
   "metadata": {
    "id": "8WbLC6CTIxSx"
   },
   "source": [
    "We can see that the median for average salaries demonstrate a positive correlation with the required degree. The plot indicates that PhD has the highest median at about 125K. However, there is an interesting founding that for PhD salary distribution, we have a U shape near the median average salary. This indicates that there are more jobs have either higher or lower salaries, instead of being in the middle. Our guessing is that for PhD students, they either choose to continue devoting themselves in research, or they might get hire in a company for higher positions (such as manager level). This might cause the gap in the salary distribution.\n",
    "\n",
    "Based on these two results, we can conclude that most jobs indeed only require for a Bachelor's Degree. However, if you have a high expectation on the salary, maybe gaining a higher degree is a better choice.\n",
    "\n",
    "Next, for career-oriented purpose, we also want to explore the relationship between different job types and the average salaries. Here we apply a boxen plot to visualize the distribution."
   ]
  },
  {
   "cell_type": "code",
   "execution_count": null,
   "metadata": {
    "colab": {
     "base_uri": "https://localhost:8080/",
     "height": 422
    },
    "id": "D_926zEEn30l",
    "outputId": "275084f0-8d15-4fa5-fd90-2b565c027164"
   },
   "outputs": [
    {
     "data": {
      "text/plain": [
       "Text(0.5, 1.0, 'Avg Salary by Job Type')"
      ]
     },
     "execution_count": 6,
     "metadata": {},
     "output_type": "execute_result"
    },
    {
     "data": {
      "text/plain": [
       "<Figure size 720x720 with 0 Axes>"
      ]
     },
     "metadata": {},
     "output_type": "display_data"
    },
    {
     "data": {
      "image/png": "[encoded data removed]",
      "text/plain": [
       "<Figure size 720x360 with 1 Axes>"
      ]
     },
     "metadata": {
      "needs_background": "light"
     },
     "output_type": "display_data"
    }
   ],
   "source": [
    "# copy the dataset for salary v.s. job type analysis\n",
    "salary = data.copy()[['job_title_sim', 'Avg Salary(K)']]\n",
    "# visualize the data using boxen plot\n",
    "plt.figure(figsize=(10,10))\n",
    "sns.catplot(y=\"job_title_sim\", x=\"Avg Salary(K)\", kind=\"boxen\",\n",
    "            palette=\"ch:.25\", aspect=2, data=salary)\n",
    "plt.ylabel(\"Job Type\")\n",
    "plt.title(\"Avg Salary by Job Type\", size=16)"
   ]
  },
  {
   "cell_type": "markdown",
   "metadata": {
    "id": "3zBbgmoUK3LB"
   },
   "source": [
    "From the plot above, we can see that most of the job types have its second and third quartile fall in the range between 50K and 100K. Data scientist, machine learning engineer and director are having higher salaries, with second and third quartile fall in the range between 100K and 150K, amost double the amount. Data scientist are having the best performance among all the job types, with more jobs distribute in the range of 150K and above, and also the highest salary. However, it is also having the wildest range, with job salary falls below 25K. Overall, data scientist is a good choice."
   ]
  },
  {
   "cell_type": "markdown",
   "metadata": {
    "id": "QfoM80mIWOoW"
   },
   "source": [
    "## Part 3: Correlation Among Job Amount, Salary, and Industry"
   ]
  },
  {
   "cell_type": "markdown",
   "metadata": {
    "id": "-G6hAfIkFez0"
   },
   "source": [
    "### Context\n",
    "In this section, we will be examine how the data scientist salary differs base on the different industries. First we will be looking at the number of jobs provided of each industries. Since the amount of jobs of different industry sector recorded is different, we will be comparing the mean salary. And the following questions will be answered: Which industry sector offers the most job? Whichi industry sector has the highest mean salary? What's an exampler company that represents this industry sector?\n",
    "### Methodology\n",
    "We will use bar plot and box plot to visually examine the data."
   ]
  },
  {
   "cell_type": "code",
   "execution_count": null,
   "metadata": {
    "id": "He_Nce7M6hc0"
   },
   "outputs": [],
   "source": [
    "df=data.loc[:,['Sector','Avg Salary(K)', 'Job Location', 'job_title_sim', 'Degree']]\n",
    "\n",
    "plt=df['Sector'].value_counts().plot(kind='bar')\n",
    "plt.figure()\n",
    "plt.rcParams.update({'font.size': 22})\n",
    "plt.set_ylabel('Numbers of job offered')\n",
    "plt.set_xlabel('industry sector')\n",
    "plt.set_title('Job number vs industry')"
   ]
  },
  {
   "cell_type": "markdown",
   "metadata": {
    "id": "odzyBEOEWEgA"
   },
   "source": [
    "![1.png](data:image/png;base64,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)"
   ]
  },
  {
   "cell_type": "markdown",
   "metadata": {
    "id": "v6Ky08Gq6qPe"
   },
   "source": [
    "Moreover, as we can see from this histogram of job amounts vs industry sector, the top three industries that offer the most jobs are information technology firms, companies that operate in the internet or computer software business. Biotech firms such as pfitzer, Business Service firms that mainly operate in marketing and advertising. These three industry sectors offer the majority of statistic related jobs on the market.\n"
   ]
  },
  {
   "cell_type": "code",
   "execution_count": null,
   "metadata": {
    "id": "1_4SzabQ7lC_"
   },
   "outputs": [],
   "source": [
    "plt=df.groupby([\"Sector\"]).mean().sort_values(by=['Avg Salary(K)'],ascending=False).plot(kind='bar')\n",
    "plt.figure()\n",
    "plt.rcParams.update({'font.size': 22})\n",
    "plt.set_ylabel('Avg Salary in thousands')\n",
    "plt.set_xlabel('industry sector')\n",
    "plt.set_title('Avg wage by industry')\n",
    "plt.set_ylim(40,120)"
   ]
  },
  {
   "cell_type": "code",
   "execution_count": null,
   "metadata": {
    "id": "_4FeDXFE7mhi"
   },
   "outputs": [],
   "source": [
    "plt.figure(figsize=(10,10))\n",
    "sns.catplot(y=\"Sector\", x=\"Avg Salary(K)\", kind=\"box\",\n",
    "            palette=\"ch:.25\", aspect=2, data=df)"
   ]
  },
  {
   "cell_type": "markdown",
   "metadata": {
    "id": "2ry-5fOM7qXO"
   },
   "source": [
    "From these two plots of industry sector versus average salary, we can see that information technology firms do have a widest range of annual salary corresponding to the large job amount. However, media companies that operate in video games and tv broadcasting have the highest mean salary. And we can also see that data scientists working in art industry earns the least."
   ]
  },
  {
   "cell_type": "markdown",
   "metadata": {
    "id": "Q0vUjzG6WRkg"
   },
   "source": [
    "## Part 4: Correlation Among Company Rating, Salary, and Location."
   ]
  },
  {
   "cell_type": "markdown",
   "metadata": {
    "id": "TeMTqlh-X9Bm"
   },
   "source": [
    "### Context:  \n",
    "\n",
    "Data scientists, analysts, engineers are known for its versatility, opening doors from healthcare to finances. Nevertheless, similar to other specializing careers, data science's job positions occurs in clusters. Regions such as Silicon Valley has more job offerings than others. In this portion, we are inspecting the correlation among the company rating, salary, and location of the companies. Is there a correlation between company rating and salary? With audicious premesis, is money an important factor for job satisfactory? Does location of the job offering influence the average salary? Does location influence the company rating?\n",
    "\n",
    "Starting with the question if there's a correlation between the average salary and company. Then, further investigate the correlation between location and salary, and location and company rating.\n",
    "\n",
    "### Methodolgy:\n",
    "\n",
    "1. To understand wether or not there's an correlation between salary and rating, we will perform an spearsman correlation calculation and correlation plot.\n",
    "\n",
    "2. For the second and third questions, we will first acquire the location from location variable, then use an geocoding API(MapQuest) to obtain the latitude and longtitude of the location.\n",
    "\n",
    "3. Create separate dataframes for location vs. rating, and location vs. salary, attaching the longtitude and latitude in separate dataframes. Then uses the package `folium`  to generate interactive plots.\n",
    "\n",
    "4. Change the color of the circles on map to demonstrate the different wage and rating intervals, using if and elif statements. A darker green circle indicate a higher salary or rating."
   ]
  },
  {
   "cell_type": "markdown",
   "metadata": {
    "id": "2vaB92QA9hWw"
   },
   "source": [
    "### Observation and comments\n",
    "\n",
    "From the correlation plot we observe no linear or other correlation between the company rating and salary. The spearsman correlation coefficient is only 0.13699152484765198. This is result is not unexpected. The data source suggest rating to be a more comprehensive evaluation of the company. Salary, despite its crucial role, cannot be the sole determinate of the company rating.\n",
    "\n",
    "The interactive map for location vs. rating is not consistent with my inital predications. The rating map suggests a conglomeration of lower rating companies around New York, while other metropolises such as Los Angeles, Chicago, Silicon Valley, Seattles does not experience this inverse correlation.\n",
    "\n",
    "On the other hand, the interactive map for location vs. salary is accordant with most people's expectation. In the urban regions, job offers are prone to provide higher salaries.\n",
    "\n"
   ]
  },
  {
   "cell_type": "markdown",
   "metadata": {
    "id": "4VQVnRt-Mv6z"
   },
   "source": []
  },
  {
   "cell_type": "code",
   "execution_count": null,
   "metadata": {
    "colab": {
     "base_uri": "https://localhost:8080/",
     "height": 387
    },
    "id": "B24_HKH0w4YP",
    "outputId": "fcad1057-adc2-48bf-d7cf-e86005649c5c"
   },
   "outputs": [
    {
     "ename": "ModuleNotFoundError",
     "errorDetails": {
      "actions": [
       {
        "action": "open_url",
        "actionText": "Open Examples",
        "url": "/notebooks/snippets/importing_libraries.ipynb"
       }
      ]
     },
     "evalue": "ignored",
     "output_type": "error",
     "traceback": [
      "\u001b[0;31m---------------------------------------------------------------------------\u001b[0m",
      "\u001b[0;31mModuleNotFoundError\u001b[0m                       Traceback (most recent call last)",
      "\u001b[0;32m<ipython-input-2-18c34e8ee76a>\u001b[0m in \u001b[0;36m<module>\u001b[0;34m()\u001b[0m\n\u001b[1;32m      1\u001b[0m \u001b[0;31m#import packages\u001b[0m\u001b[0;34m\u001b[0m\u001b[0;34m\u001b[0m\u001b[0;34m\u001b[0m\u001b[0m\n\u001b[1;32m      2\u001b[0m \u001b[0;32mimport\u001b[0m \u001b[0mfolium\u001b[0m\u001b[0;34m\u001b[0m\u001b[0;34m\u001b[0m\u001b[0m\n\u001b[0;32m----> 3\u001b[0;31m \u001b[0;32mimport\u001b[0m \u001b[0mcolour\u001b[0m\u001b[0;34m\u001b[0m\u001b[0;34m\u001b[0m\u001b[0m\n\u001b[0m\u001b[1;32m      4\u001b[0m \u001b[0mcorr\u001b[0m \u001b[0;34m=\u001b[0m \u001b[0mdata\u001b[0m\u001b[0;34m\u001b[0m\u001b[0;34m\u001b[0m\u001b[0m\n\u001b[1;32m      5\u001b[0m \u001b[0mcorr\u001b[0m \u001b[0;34m=\u001b[0m \u001b[0mcorr\u001b[0m\u001b[0;34m.\u001b[0m\u001b[0mreplace\u001b[0m\u001b[0;34m(\u001b[0m\u001b[0;34m[\u001b[0m\u001b[0;34m'-1'\u001b[0m\u001b[0;34m]\u001b[0m\u001b[0;34m,\u001b[0m\u001b[0;34m[\u001b[0m\u001b[0mnp\u001b[0m\u001b[0;34m.\u001b[0m\u001b[0mnan\u001b[0m\u001b[0;34m]\u001b[0m\u001b[0;34m)\u001b[0m\u001b[0;34m\u001b[0m\u001b[0;34m\u001b[0m\u001b[0m\n",
      "\u001b[0;31mModuleNotFoundError\u001b[0m: No module named 'colour'",
      "",
      "\u001b[0;31m---------------------------------------------------------------------------\u001b[0;32m\nNOTE: If your import is failing due to a missing package, you can\nmanually install dependencies using either !pip or !apt.\n\nTo view examples of installing some common dependencies, click the\n\"Open Examples\" button below.\n\u001b[0;31m---------------------------------------------------------------------------\u001b[0m\n"
     ]
    }
   ],
   "source": [
    "#import packages\n",
    "import folium\n",
    "import colour\n",
    "corr = data\n",
    "corr = corr.replace(['-1'],[np.nan])\n",
    "corr = corr.replace([-1.0],[np.nan])\n",
    "corr.dropna()\n",
    "corr.head()"
   ]
  },
  {
   "cell_type": "markdown",
   "metadata": {
    "id": "X7ckI1-PM5Fh"
   },
   "source": [
    "### Average salary and company rating"
   ]
  },
  {
   "cell_type": "code",
   "execution_count": null,
   "metadata": {
    "id": "wtDC6xupM9WI"
   },
   "outputs": [],
   "source": [
    "def spear_corr(df, method='spearman'):\n",
    "    corrs = df.corr(method=method)\n",
    "    return corrs.iloc[0,1]\n",
    "\n",
    "spear = corr.loc[:,['Avg Salary(K)', 'Rating']]\n",
    "spear_corr(spear)\n",
    "\n",
    "import matplotlib.pyplot as plt\n",
    "x = corr['Avg Salary(K)']\n",
    "y = corr['Rating']\n",
    "\n",
    "# Plot correlation between\n",
    "plt.scatter(x, y)\n",
    "plt.plot(np.unique(x), np.poly1d(np.polyfit(x, y, 1))\n",
    "         (np.unique(x)), color='red')\n",
    "plt.title('correlation between average salary and company rating')\n",
    "plt.xlabel('rating')\n",
    "plt.ylabel('average salary')"
   ]
  },
  {
   "cell_type": "markdown",
   "metadata": {
    "id": "4nKhS9kCNEWL"
   },
   "source": [
    "### Interactive Map: Average Salary vs. Rating"
   ]
  },
  {
   "cell_type": "code",
   "execution_count": null,
   "metadata": {
    "id": "sM4jSU1vM_b-"
   },
   "outputs": [],
   "source": [
    "# turn address to latitude and logitude with mapquest API\n",
    "import requests\n",
    "import json\n",
    "\n",
    "#location vs. rating dataframe\n",
    "locR = corr.loc[:,['Location', 'Rating']]\n",
    "\n",
    "\n",
    "#API call and get the latitude & longitude values\n",
    "for i, row in locR.iterrows():\n",
    "\n",
    "    address = locR.at[i,'Location']\n",
    "    parameters = {\n",
    "        \"key\" : \"f1XhDA8XuSbGzhqJaig01W4RUvfYVZrN\",\n",
    "        \"location\" : address\n",
    "    }\n",
    "    response = requests.get(\"http://www.mapquestapi.com/geocoding/v1/address\", params = parameters)\n",
    "\n",
    "    coord = json.loads(response.text)['results']\n",
    "\n",
    "    lat = coord[0]['locations'][0]['latLng']['lat']\n",
    "    lng = coord[0]['locations'][0]['latLng']['lng']\n",
    "\n",
    "    locR.at[i, 'lat'] = lat\n",
    "    locR.at[i, 'lng'] = lng\n",
    "\n"
   ]
  },
  {
   "cell_type": "code",
   "execution_count": null,
   "metadata": {
    "id": "ocPU515GNJB_"
   },
   "outputs": [],
   "source": [
    "locR = pd.read_csv('locR.csv')\n",
    "locS = pd.read_csv('locS.csv')"
   ]
  },
  {
   "cell_type": "code",
   "execution_count": null,
   "metadata": {
    "id": "LIhSjynsNLbv"
   },
   "outputs": [],
   "source": [
    "def select_marker_color(row):\n",
    "    if float(row['Rating']) < 2.0:\n",
    "        return '#E8F5E9'\n",
    "    elif float(row['Rating']) < 2.5:\n",
    "        return '#C8E6C9'\n",
    "    elif float(row['Rating']) < 3.0:\n",
    "        return '#A5D6A7'\n",
    "    elif float(row['Rating']) < 3.5:\n",
    "        return '#81C784'\n",
    "    elif float(row['Rating']) < 3.8:\n",
    "        return '#66BB6A'\n",
    "    elif float(row['Rating']) < 4.0:\n",
    "        return '#4CAF50'\n",
    "    elif float(row['Rating']) < 4.3:\n",
    "        return '#43A047'\n",
    "    elif float(row['Rating']) < 4.5:\n",
    "        return '#388E3C'\n",
    "    elif float(row['Rating']) < 4.8:\n",
    "        return '#2E7D32'\n",
    "    elif float(row['Rating']) < 5.0:\n",
    "        return '#1B5E20'\n",
    "\n"
   ]
  },
  {
   "cell_type": "code",
   "execution_count": null,
   "metadata": {
    "id": "Q7iB5zsjNNc-"
   },
   "outputs": [],
   "source": [
    "locR['color'] = locR.apply(select_marker_color, axis = 1)\n",
    "loc_rating = folium.Map(\n",
    "    location = [39, -100],\n",
    "    zoom_start = 4.4\n",
    ")\n",
    "loc_rating\n",
    "for _, loc in locR.iterrows():\n",
    "\n",
    "    folium.CircleMarker(\n",
    "        location = [loc['lat'], loc['lng']],\n",
    "        popup = loc['Rating'],\n",
    "        tooltip = loc['Rating'],\n",
    "        radius = 3,\n",
    "        color = loc['color'],\n",
    "        fill_color = loc['color']\n",
    "    ).add_to(loc_rating)\n",
    "\n",
    "\n",
    "loc_rating"
   ]
  },
  {
   "cell_type": "markdown",
   "metadata": {
    "id": "zhe_-kBFNQmN"
   },
   "source": [
    "### Interactive Map: Location vs. Salary"
   ]
  },
  {
   "cell_type": "code",
   "execution_count": null,
   "metadata": {
    "id": "jHTnqGh4NQJW"
   },
   "outputs": [],
   "source": [
    "#location vs. salary dataframe from API\n",
    "locS = corr.loc[:,['Avg Salary(K)', 'Location']]\n",
    "\n",
    "\n",
    "#API call and get the latitude & longitude values\n",
    "for i, row in locS.iterrows():\n",
    "\n",
    "    address = locS.at[i,'Location']\n",
    "    parameters = {\n",
    "        \"key\" : \"f1XhDA8XuSbGzhqJaig01W4RUvfYVZrN\",\n",
    "        \"location\" : address\n",
    "    }\n",
    "    response = requests.get(\"http://www.mapquestapi.com/geocoding/v1/address\", params = parameters)\n",
    "\n",
    "    cd = json.loads(response.text)['results']\n",
    "\n",
    "    lat = cd[0]['locations'][0]['latLng']['lat']\n",
    "    lng = cd[0]['locations'][0]['latLng']['lng']\n",
    "\n",
    "    locS.at[i, 'lat'] = lat\n",
    "    locS.at[i, 'lng'] = lng"
   ]
  },
  {
   "cell_type": "code",
   "execution_count": null,
   "metadata": {
    "id": "aqtPkrKrNXwn"
   },
   "outputs": [],
   "source": [
    "def select_marker_color_s(row):\n",
    "    if float(row['Avg Salary(K)']) < 50.0:\n",
    "        return '#E8F5E9'\n",
    "    elif float(row['Avg Salary(K)']) < 70.0:\n",
    "        return '#C8E6C9'\n",
    "    elif float(row['Avg Salary(K)']) < 90.0:\n",
    "        return '#A5D6A7'\n",
    "    elif float(row['Avg Salary(K)']) < 105.0:\n",
    "        return '#81C784'\n",
    "    elif float(row['Avg Salary(K)']) < 120.0:\n",
    "        return '#66BB6A'\n",
    "    elif float(row['Avg Salary(K)']) < 135.0:\n",
    "        return '#4CAF50'\n",
    "    elif float(row['Avg Salary(K)']) < 150.0:\n",
    "        return '#43A047'\n",
    "    elif float(row['Avg Salary(K)']) < 180.0:\n",
    "        return '#388E3C'\n",
    "    elif float(row['Avg Salary(K)']) < 200.0:\n",
    "        return '#2E7D32'\n",
    "    elif float(row['Avg Salary(K)']) < 270.0:\n",
    "        return '#1B5E20'\n"
   ]
  },
  {
   "cell_type": "code",
   "execution_count": null,
   "metadata": {
    "id": "bb3HZdGONaF1"
   },
   "outputs": [],
   "source": [
    "locS['color'] = locS.apply(select_marker_color_s, axis = 1)\n",
    "loc_salary = folium.Map(\n",
    "    location = [39, -100],\n",
    "    zoom_start = 4.4\n",
    ")\n",
    "loc_salary\n",
    "for _, loc in locS.iterrows():\n",
    "\n",
    "    folium.CircleMarker(\n",
    "        location = [loc['lat'], loc['lng']],\n",
    "        popup = loc['Avg Salary(K)'],\n",
    "        tooltip = loc['Avg Salary(K)'],\n",
    "        radius = 3,\n",
    "        color = loc['color'],\n",
    "        fill_color = loc['color']\n",
    "    ).add_to(loc_salary)\n",
    "\n",
    "loc_salary"
   ]
  },
  {
   "cell_type": "markdown",
   "metadata": {
    "id": "5Q1jAJoLXdKe"
   },
   "source": [
    "## Conclusion\n",
    "In part I, we conclude that python is the most used programming language and flink is the least used programming language. In addition, it looks like Python, SQL, Excel are the top three skills in demand for Data Scientists, Data Engineers, and Machine Learning Engineers. It is imperative to process the python skills if you want to become a data scientist in the future.\n",
    "\n",
    "However, there are some hidden drawbacks to our dataset. For example, the dataset does not include the R programming language. R as a popular programming language for statistical computing and graphic should be considered in this dataset. Therefore, we could only analyze the given data. More information about programming languages needs to be collected to improve the dataset.\n",
    "\n",
    "In part II, we try to determine the correlation among Educational Degree, Job Types, and salaries. Among our observations, pursuing a degree in Bachelor is sufficient for many data-related jobs. Having a bachelor’s degree can earn an average of 100k per year. Higher education can increase the average salary. The median average salary has a positive correlation with a higher degree.\n",
    "\n",
    "In part three, we captures the job offers by industries to further prove the versitility of data science. Industires that offer data related jobs range from art to government. It is apparent that tech companies offers the majority of job positions, while fields such as accounting and agriculture extend the least offers. We also calculate the average salary based on industries. Media industries has the highest average salary, and art is on the other spectrum. Due to the different number of job offers accross different industries, the average salary\n",
    "\n",
    "In part four, we examine the relationship among salary, location, and rating. We conclude that companies that have data scientist job offerings are clustered around metropolises. Those regions tend to have higher salaries. However, some regions demonstrate an inverse correlation with company ratings, such as the East Coast region around New York. It is worth noticing that, from an economic standpoint, a higher salary is not equivalent to higher purchasing power. An interesting further study may calculate purchasing power based on the price index by state. Moreover, since job offerings require different seniority, the map may introduce biases by mapping all job offers while ignoring the required experience in the field.\n"
   ]
  },
  {
   "cell_type": "markdown",
   "metadata": {
    "id": "R9ffJ8bzXjSv"
   },
   "source": [
    "## Sources"
   ]
  },
  {
   "cell_type": "markdown",
   "metadata": {
    "id": "FZlX-3v-MiJW"
   },
   "source": [
    "[source data: data scientist salary](https://www.kaggle.com/nikhilbhathi/data-scientist-salary-us-glassdoor)\n",
    "\n",
    "[MapQuest API for geo coding](https://developer.mapquest.com/)"
   ]
  }
 ],
 "metadata": {
  "colab": {
   "provenance": []
  },
  "kernelspec": {
   "display_name": "Python 3 (ipykernel)",
   "language": "python",
   "name": "python3"
  },
  "language_info": {
   "codemirror_mode": {
    "name": "ipython",
    "version": 3
   },
   "file_extension": ".py",
   "mimetype": "text/x-python",
   "name": "python",
   "nbconvert_exporter": "python",
   "pygments_lexer": "ipython3",
   "version": "3.9.7"
  }
 },
 "nbformat": 4,
 "nbformat_minor": 1
}
